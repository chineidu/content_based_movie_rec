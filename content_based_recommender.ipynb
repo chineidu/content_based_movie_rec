{
 "cells": [
  {
   "cell_type": "markdown",
   "metadata": {},
   "source": [
    "# Content Based Movie Recommender System"
   ]
  },
  {
   "cell_type": "code",
   "execution_count": 1,
   "metadata": {},
   "outputs": [],
   "source": [
    "# import the necessary libraries\n",
    "import numpy as np\n",
    "import pandas as pd \n",
    "\n",
    "# for nlp\n",
    "import spacy\n",
    "\n",
    "# visualisation libraries\n",
    "import matplotlib.pyplot as plt \n",
    "# choose style\n",
    "plt.style.use(\"seaborn-darkgrid\")\n",
    "import seaborn as sns \n",
    "\n",
    "# adjust pandas column width\n",
    "pd.set_option('display.max_columns', 70)\n",
    "pd.set_option('display.max_colwidth', 70)\n"
   ]
  },
  {
   "cell_type": "code",
   "execution_count": 2,
   "metadata": {},
   "outputs": [
    {
     "data": {
      "text/html": [
       "<div>\n",
       "<style scoped>\n",
       "    .dataframe tbody tr th:only-of-type {\n",
       "        vertical-align: middle;\n",
       "    }\n",
       "\n",
       "    .dataframe tbody tr th {\n",
       "        vertical-align: top;\n",
       "    }\n",
       "\n",
       "    .dataframe thead th {\n",
       "        text-align: right;\n",
       "    }\n",
       "</style>\n",
       "<table border=\"1\" class=\"dataframe\">\n",
       "  <thead>\n",
       "    <tr style=\"text-align: right;\">\n",
       "      <th></th>\n",
       "      <th>index</th>\n",
       "      <th>budget</th>\n",
       "      <th>genres</th>\n",
       "      <th>homepage</th>\n",
       "      <th>id</th>\n",
       "      <th>keywords</th>\n",
       "      <th>original_language</th>\n",
       "      <th>original_title</th>\n",
       "      <th>overview</th>\n",
       "      <th>popularity</th>\n",
       "      <th>production_companies</th>\n",
       "      <th>production_countries</th>\n",
       "      <th>release_date</th>\n",
       "      <th>revenue</th>\n",
       "      <th>runtime</th>\n",
       "      <th>spoken_languages</th>\n",
       "      <th>status</th>\n",
       "      <th>tagline</th>\n",
       "      <th>title</th>\n",
       "      <th>vote_average</th>\n",
       "      <th>vote_count</th>\n",
       "      <th>cast</th>\n",
       "      <th>crew</th>\n",
       "      <th>director</th>\n",
       "    </tr>\n",
       "  </thead>\n",
       "  <tbody>\n",
       "    <tr>\n",
       "      <th>0</th>\n",
       "      <td>0</td>\n",
       "      <td>237000000</td>\n",
       "      <td>Action Adventure Fantasy Science Fiction</td>\n",
       "      <td>http://www.avatarmovie.com/</td>\n",
       "      <td>19995</td>\n",
       "      <td>culture clash future space war space colony society</td>\n",
       "      <td>en</td>\n",
       "      <td>Avatar</td>\n",
       "      <td>In the 22nd century, a paraplegic Marine is dispatched to the moon...</td>\n",
       "      <td>150.437577</td>\n",
       "      <td>[{\"name\": \"Ingenious Film Partners\", \"id\": 289}, {\"name\": \"Twentie...</td>\n",
       "      <td>[{\"iso_3166_1\": \"US\", \"name\": \"United States of America\"}, {\"iso_3...</td>\n",
       "      <td>2009-12-10</td>\n",
       "      <td>2787965087</td>\n",
       "      <td>162.0</td>\n",
       "      <td>[{\"iso_639_1\": \"en\", \"name\": \"English\"}, {\"iso_639_1\": \"es\", \"name...</td>\n",
       "      <td>Released</td>\n",
       "      <td>Enter the World of Pandora.</td>\n",
       "      <td>Avatar</td>\n",
       "      <td>7.2</td>\n",
       "      <td>11800</td>\n",
       "      <td>Sam Worthington Zoe Saldana Sigourney Weaver Stephen Lang Michelle...</td>\n",
       "      <td>[{'name': 'Stephen E. Rivkin', 'gender': 0, 'department': 'Editing...</td>\n",
       "      <td>James Cameron</td>\n",
       "    </tr>\n",
       "    <tr>\n",
       "      <th>1</th>\n",
       "      <td>1</td>\n",
       "      <td>300000000</td>\n",
       "      <td>Adventure Fantasy Action</td>\n",
       "      <td>http://disney.go.com/disneypictures/pirates/</td>\n",
       "      <td>285</td>\n",
       "      <td>ocean drug abuse exotic island east india trading company love of ...</td>\n",
       "      <td>en</td>\n",
       "      <td>Pirates of the Caribbean: At World's End</td>\n",
       "      <td>Captain Barbossa, long believed to be dead, has come back to life ...</td>\n",
       "      <td>139.082615</td>\n",
       "      <td>[{\"name\": \"Walt Disney Pictures\", \"id\": 2}, {\"name\": \"Jerry Bruckh...</td>\n",
       "      <td>[{\"iso_3166_1\": \"US\", \"name\": \"United States of America\"}]</td>\n",
       "      <td>2007-05-19</td>\n",
       "      <td>961000000</td>\n",
       "      <td>169.0</td>\n",
       "      <td>[{\"iso_639_1\": \"en\", \"name\": \"English\"}]</td>\n",
       "      <td>Released</td>\n",
       "      <td>At the end of the world, the adventure begins.</td>\n",
       "      <td>Pirates of the Caribbean: At World's End</td>\n",
       "      <td>6.9</td>\n",
       "      <td>4500</td>\n",
       "      <td>Johnny Depp Orlando Bloom Keira Knightley Stellan Skarsg\\u00e5rd C...</td>\n",
       "      <td>[{'name': 'Dariusz Wolski', 'gender': 2, 'department': 'Camera', '...</td>\n",
       "      <td>Gore Verbinski</td>\n",
       "    </tr>\n",
       "  </tbody>\n",
       "</table>\n",
       "</div>"
      ],
      "text/plain": [
       "   index     budget                                    genres  \\\n",
       "0      0  237000000  Action Adventure Fantasy Science Fiction   \n",
       "1      1  300000000                  Adventure Fantasy Action   \n",
       "\n",
       "                                       homepage     id  \\\n",
       "0                   http://www.avatarmovie.com/  19995   \n",
       "1  http://disney.go.com/disneypictures/pirates/    285   \n",
       "\n",
       "                                                                keywords  \\\n",
       "0                    culture clash future space war space colony society   \n",
       "1  ocean drug abuse exotic island east india trading company love of ...   \n",
       "\n",
       "  original_language                            original_title  \\\n",
       "0                en                                    Avatar   \n",
       "1                en  Pirates of the Caribbean: At World's End   \n",
       "\n",
       "                                                                overview  \\\n",
       "0  In the 22nd century, a paraplegic Marine is dispatched to the moon...   \n",
       "1  Captain Barbossa, long believed to be dead, has come back to life ...   \n",
       "\n",
       "   popularity  \\\n",
       "0  150.437577   \n",
       "1  139.082615   \n",
       "\n",
       "                                                    production_companies  \\\n",
       "0  [{\"name\": \"Ingenious Film Partners\", \"id\": 289}, {\"name\": \"Twentie...   \n",
       "1  [{\"name\": \"Walt Disney Pictures\", \"id\": 2}, {\"name\": \"Jerry Bruckh...   \n",
       "\n",
       "                                                    production_countries  \\\n",
       "0  [{\"iso_3166_1\": \"US\", \"name\": \"United States of America\"}, {\"iso_3...   \n",
       "1             [{\"iso_3166_1\": \"US\", \"name\": \"United States of America\"}]   \n",
       "\n",
       "  release_date     revenue  runtime  \\\n",
       "0   2009-12-10  2787965087    162.0   \n",
       "1   2007-05-19   961000000    169.0   \n",
       "\n",
       "                                                        spoken_languages  \\\n",
       "0  [{\"iso_639_1\": \"en\", \"name\": \"English\"}, {\"iso_639_1\": \"es\", \"name...   \n",
       "1                               [{\"iso_639_1\": \"en\", \"name\": \"English\"}]   \n",
       "\n",
       "     status                                         tagline  \\\n",
       "0  Released                     Enter the World of Pandora.   \n",
       "1  Released  At the end of the world, the adventure begins.   \n",
       "\n",
       "                                      title  vote_average  vote_count  \\\n",
       "0                                    Avatar           7.2       11800   \n",
       "1  Pirates of the Caribbean: At World's End           6.9        4500   \n",
       "\n",
       "                                                                    cast  \\\n",
       "0  Sam Worthington Zoe Saldana Sigourney Weaver Stephen Lang Michelle...   \n",
       "1  Johnny Depp Orlando Bloom Keira Knightley Stellan Skarsg\\u00e5rd C...   \n",
       "\n",
       "                                                                    crew  \\\n",
       "0  [{'name': 'Stephen E. Rivkin', 'gender': 0, 'department': 'Editing...   \n",
       "1  [{'name': 'Dariusz Wolski', 'gender': 2, 'department': 'Camera', '...   \n",
       "\n",
       "         director  \n",
       "0   James Cameron  \n",
       "1  Gore Verbinski  "
      ]
     },
     "execution_count": 2,
     "metadata": {},
     "output_type": "execute_result"
    }
   ],
   "source": [
    "# load the data\n",
    "movies_df = pd.read_csv(\"data\\movie_dataset.csv\")\n",
    "movies_df.head(2)"
   ]
  },
  {
   "cell_type": "code",
   "execution_count": 3,
   "metadata": {},
   "outputs": [],
   "source": [
    "nlp = spacy.load(\"en_core_web_sm\")"
   ]
  },
  {
   "cell_type": "code",
   "execution_count": 4,
   "metadata": {},
   "outputs": [
    {
     "name": "stdout",
     "output_type": "stream",
     "text": [
      "<class 'pandas.core.frame.DataFrame'>\n",
      "RangeIndex: 4803 entries, 0 to 4802\n",
      "Data columns (total 24 columns):\n",
      " #   Column                Non-Null Count  Dtype  \n",
      "---  ------                --------------  -----  \n",
      " 0   index                 4803 non-null   int64  \n",
      " 1   budget                4803 non-null   int64  \n",
      " 2   genres                4775 non-null   object \n",
      " 3   homepage              1712 non-null   object \n",
      " 4   id                    4803 non-null   int64  \n",
      " 5   keywords              4391 non-null   object \n",
      " 6   original_language     4803 non-null   object \n",
      " 7   original_title        4803 non-null   object \n",
      " 8   overview              4800 non-null   object \n",
      " 9   popularity            4803 non-null   float64\n",
      " 10  production_companies  4803 non-null   object \n",
      " 11  production_countries  4803 non-null   object \n",
      " 12  release_date          4802 non-null   object \n",
      " 13  revenue               4803 non-null   int64  \n",
      " 14  runtime               4801 non-null   float64\n",
      " 15  spoken_languages      4803 non-null   object \n",
      " 16  status                4803 non-null   object \n",
      " 17  tagline               3959 non-null   object \n",
      " 18  title                 4803 non-null   object \n",
      " 19  vote_average          4803 non-null   float64\n",
      " 20  vote_count            4803 non-null   int64  \n",
      " 21  cast                  4760 non-null   object \n",
      " 22  crew                  4803 non-null   object \n",
      " 23  director              4773 non-null   object \n",
      "dtypes: float64(3), int64(5), object(16)\n",
      "memory usage: 900.7+ KB\n"
     ]
    }
   ],
   "source": [
    "# information\n",
    "movies_df.info()"
   ]
  },
  {
   "cell_type": "code",
   "execution_count": 5,
   "metadata": {},
   "outputs": [
    {
     "data": {
      "text/html": [
       "<div>\n",
       "<style scoped>\n",
       "    .dataframe tbody tr th:only-of-type {\n",
       "        vertical-align: middle;\n",
       "    }\n",
       "\n",
       "    .dataframe tbody tr th {\n",
       "        vertical-align: top;\n",
       "    }\n",
       "\n",
       "    .dataframe thead th {\n",
       "        text-align: right;\n",
       "    }\n",
       "</style>\n",
       "<table border=\"1\" class=\"dataframe\">\n",
       "  <thead>\n",
       "    <tr style=\"text-align: right;\">\n",
       "      <th></th>\n",
       "      <th>index</th>\n",
       "      <th>title</th>\n",
       "      <th>genres</th>\n",
       "      <th>keywords</th>\n",
       "      <th>cast</th>\n",
       "      <th>director</th>\n",
       "      <th>tagline</th>\n",
       "      <th>vote_average</th>\n",
       "      <th>vote_count</th>\n",
       "    </tr>\n",
       "  </thead>\n",
       "  <tbody>\n",
       "    <tr>\n",
       "      <th>0</th>\n",
       "      <td>0</td>\n",
       "      <td>Avatar</td>\n",
       "      <td>Action Adventure Fantasy Science Fiction</td>\n",
       "      <td>culture clash future space war space colony society</td>\n",
       "      <td>Sam Worthington Zoe Saldana Sigourney Weaver Stephen Lang Michelle...</td>\n",
       "      <td>James Cameron</td>\n",
       "      <td>Enter the World of Pandora.</td>\n",
       "      <td>7.2</td>\n",
       "      <td>11800</td>\n",
       "    </tr>\n",
       "    <tr>\n",
       "      <th>1</th>\n",
       "      <td>1</td>\n",
       "      <td>Pirates of the Caribbean: At World's End</td>\n",
       "      <td>Adventure Fantasy Action</td>\n",
       "      <td>ocean drug abuse exotic island east india trading company love of ...</td>\n",
       "      <td>Johnny Depp Orlando Bloom Keira Knightley Stellan Skarsg\\u00e5rd C...</td>\n",
       "      <td>Gore Verbinski</td>\n",
       "      <td>At the end of the world, the adventure begins.</td>\n",
       "      <td>6.9</td>\n",
       "      <td>4500</td>\n",
       "    </tr>\n",
       "  </tbody>\n",
       "</table>\n",
       "</div>"
      ],
      "text/plain": [
       "   index                                     title  \\\n",
       "0      0                                    Avatar   \n",
       "1      1  Pirates of the Caribbean: At World's End   \n",
       "\n",
       "                                     genres  \\\n",
       "0  Action Adventure Fantasy Science Fiction   \n",
       "1                  Adventure Fantasy Action   \n",
       "\n",
       "                                                                keywords  \\\n",
       "0                    culture clash future space war space colony society   \n",
       "1  ocean drug abuse exotic island east india trading company love of ...   \n",
       "\n",
       "                                                                    cast  \\\n",
       "0  Sam Worthington Zoe Saldana Sigourney Weaver Stephen Lang Michelle...   \n",
       "1  Johnny Depp Orlando Bloom Keira Knightley Stellan Skarsg\\u00e5rd C...   \n",
       "\n",
       "         director                                         tagline  \\\n",
       "0   James Cameron                     Enter the World of Pandora.   \n",
       "1  Gore Verbinski  At the end of the world, the adventure begins.   \n",
       "\n",
       "   vote_average  vote_count  \n",
       "0           7.2       11800  \n",
       "1           6.9        4500  "
      ]
     },
     "execution_count": 5,
     "metadata": {},
     "output_type": "execute_result"
    }
   ],
   "source": [
    "cols = ['index', 'title', 'genres', 'keywords', 'cast', 'director', 'tagline',  'vote_average', 'vote_count']\n",
    "\n",
    "# new dataframe\n",
    "df = movies_df.copy()\n",
    "df = df[cols]\n",
    "df.head(2)"
   ]
  },
  {
   "cell_type": "code",
   "execution_count": 6,
   "metadata": {},
   "outputs": [
    {
     "data": {
      "text/plain": [
       "tagline     0.175724\n",
       "keywords    0.085780\n",
       "cast        0.008953\n",
       "director    0.006246\n",
       "genres      0.005830\n",
       "title       0.000000\n",
       "dtype: float64"
      ]
     },
     "execution_count": 6,
     "metadata": {},
     "output_type": "execute_result"
    }
   ],
   "source": [
    "# determine the percentage of missing values for the object data type\n",
    "missing_col_pct = (df.select_dtypes(include='object').isna().sum() / len(df)).sort_values(ascending=False).head(7)\n",
    "missing_col_pct"
   ]
  },
  {
   "cell_type": "code",
   "execution_count": 7,
   "metadata": {},
   "outputs": [
    {
     "data": {
      "text/plain": [
       "['tagline', 'keywords', 'cast', 'director', 'genres', 'title']"
      ]
     },
     "execution_count": 7,
     "metadata": {},
     "output_type": "execute_result"
    }
   ],
   "source": [
    "# missing columns\n",
    "missing_cols = [*missing_col_pct.index]  # convert to list\n",
    "missing_cols"
   ]
  },
  {
   "cell_type": "code",
   "execution_count": 8,
   "metadata": {},
   "outputs": [
    {
     "data": {
      "text/plain": [
       "count     4803.000000\n",
       "mean       690.217989\n",
       "std       1234.585891\n",
       "min          0.000000\n",
       "25%         54.000000\n",
       "50%        235.000000\n",
       "75%        737.000000\n",
       "max      13752.000000\n",
       "Name: vote_count, dtype: float64"
      ]
     },
     "execution_count": 8,
     "metadata": {},
     "output_type": "execute_result"
    }
   ],
   "source": [
    "df['vote_count'].describe()"
   ]
  },
  {
   "cell_type": "code",
   "execution_count": 9,
   "metadata": {},
   "outputs": [
    {
     "data": {
      "image/png": "[encoded data removed]",
      "text/plain": [
       "<Figure size 720x288 with 2 Axes>"
      ]
     },
     "metadata": {},
     "output_type": "display_data"
    }
   ],
   "source": [
    "nrows, ncols = 1, 2\n",
    "fig, axs = plt.subplots(nrows, ncols, figsize=(nrows * 10, ncols * 2))\n",
    "for idx, col in enumerate(['vote_count', 'vote_average']):\n",
    "    ax = axs[idx]\n",
    "    sns.histplot(data=df, x=col, ax=ax, kde=True)\n",
    "    ax.set(title=f'Histogram of {col}')\n",
    "    \n",
    "fig.tight_layout()\n",
    "plt.show()"
   ]
  },
  {
   "cell_type": "markdown",
   "metadata": {},
   "source": [
    "**Comment:**\n",
    "* The distribution of `vote_count` follows an exponential distribution while the distribution of `vote_average` is fairly normal and is negatively skewed.\n",
    "* Since the distrbution of `vote_average` follows a normal distribution, it will be used as a feature for the recommender system."
   ]
  },
  {
   "cell_type": "code",
   "execution_count": 10,
   "metadata": {},
   "outputs": [],
   "source": [
    "# replace the values in the missing columns with '' i.e \"nan\" with ''\n",
    "for col in missing_cols:\n",
    "    df[col] = np.where(pd.isna(df[col]) == True, '', df[col])"
   ]
  },
  {
   "cell_type": "code",
   "execution_count": 11,
   "metadata": {},
   "outputs": [
    {
     "data": {
      "text/html": [
       "<div>\n",
       "<style scoped>\n",
       "    .dataframe tbody tr th:only-of-type {\n",
       "        vertical-align: middle;\n",
       "    }\n",
       "\n",
       "    .dataframe tbody tr th {\n",
       "        vertical-align: top;\n",
       "    }\n",
       "\n",
       "    .dataframe thead th {\n",
       "        text-align: right;\n",
       "    }\n",
       "</style>\n",
       "<table border=\"1\" class=\"dataframe\">\n",
       "  <thead>\n",
       "    <tr style=\"text-align: right;\">\n",
       "      <th></th>\n",
       "      <th>tagline</th>\n",
       "      <th>keywords</th>\n",
       "    </tr>\n",
       "  </thead>\n",
       "  <tbody>\n",
       "    <tr>\n",
       "      <th>10</th>\n",
       "      <td></td>\n",
       "      <td>saving the world dc comics invulnerability sequel superhero</td>\n",
       "    </tr>\n",
       "    <tr>\n",
       "      <th>56</th>\n",
       "      <td></td>\n",
       "      <td>sequel stranded hatred space opera</td>\n",
       "    </tr>\n",
       "    <tr>\n",
       "      <th>66</th>\n",
       "      <td></td>\n",
       "      <td>age difference central and south america balloon animation floatin...</td>\n",
       "    </tr>\n",
       "    <tr>\n",
       "      <th>78</th>\n",
       "      <td></td>\n",
       "      <td>based on novel snake wolf elephant tiger</td>\n",
       "    </tr>\n",
       "    <tr>\n",
       "      <th>128</th>\n",
       "      <td></td>\n",
       "      <td>rome vatican based on novel symbolism christian</td>\n",
       "    </tr>\n",
       "  </tbody>\n",
       "</table>\n",
       "</div>"
      ],
      "text/plain": [
       "    tagline  \\\n",
       "10            \n",
       "56            \n",
       "66            \n",
       "78            \n",
       "128           \n",
       "\n",
       "                                                                  keywords  \n",
       "10             saving the world dc comics invulnerability sequel superhero  \n",
       "56                                      sequel stranded hatred space opera  \n",
       "66   age difference central and south america balloon animation floatin...  \n",
       "78                                based on novel snake wolf elephant tiger  \n",
       "128                        rome vatican based on novel symbolism christian  "
      ]
     },
     "execution_count": 11,
     "metadata": {},
     "output_type": "execute_result"
    }
   ],
   "source": [
    "# verifiy the operation that was performed above\n",
    "df.loc[(df['tagline'] == ''), ['tagline', 'keywords']].head()"
   ]
  },
  {
   "cell_type": "code",
   "execution_count": 12,
   "metadata": {},
   "outputs": [],
   "source": [
    "### Helper Functions\n",
    "\n",
    "def important_features(df):\n",
    "    # combine the important cols\n",
    "    result = f\"{df['title']} {df['genres']} {df['keywords']} {df['cast']} {df['director']}\"\n",
    "\n",
    "    return result\n",
    "\n",
    "\n",
    "def clean_doc(my_str):\n",
    "    \"\"\"\n",
    "    1. Convert my_str to doc (collection of spans).\n",
    "    2. Remove the stopwords and punctuations from the token_list and store in filtered_tokens.\n",
    "    3. Return filtered_tokens.\n",
    "    \"\"\"\n",
    "    \n",
    "    stop_words = nlp.Defaults.stop_words    # stopwords\n",
    "    \n",
    "   # convert to doc\n",
    "    doc = nlp(my_str)\n",
    "    \n",
    "    # filtered tokens which have been converted to strings and remove the punctuations\n",
    "    filtered_tokens = [str(token) for token in doc if token.is_stop == False and token.is_punct == False]\n",
    "    \n",
    "    return filtered_tokens\n",
    "\n",
    "\n",
    "def get_movie_title(idx):\n",
    "    \"\"\"\n",
    "    Returns the filtered movie index.\n",
    "    \"\"\"\n",
    "    title = df.loc[df['index'] == idx, 'title'].values[0]\n",
    "    \n",
    "    return title\n",
    "\n",
    "\n",
    "def get_index(title):\n",
    "    \"\"\"\n",
    "    Returns the filtered movie title.\n",
    "    \"\"\"\n",
    "    index = df.loc[df['title'] == title, 'index'].values[0]\n",
    "    \n",
    "    return index\n",
    "\n",
    "\n",
    "def recommend_movies(user_movie_title, num=10):\n",
    "    \"\"\"\n",
    "    num = number of movies to recommend\n",
    "    It returns the recommended movie titles\n",
    "    \"\"\"\n",
    "\n",
    "   \n",
    "    index = get_index(user_movie_title)\n",
    "    # get the cosine similarity of the movie using the movie index\n",
    "    cosine_sim_of_movie = cosine_sim[index]\n",
    "\n",
    "    cosine_sim_of_movie = [*enumerate(cosine_sim_of_movie)]   # list containing (idx, corr)\n",
    "\n",
    "    # sort the cosine similarity of the movie by the correlation in descending order\n",
    "    sorted_movies_corr = sorted(cosine_sim_of_movie, key=lambda movie_sim:movie_sim[1], reverse=True)[:num+1]\n",
    "\n",
    "    # sort the cosine similarity of the movie by the vote_average in descending order\n",
    "    sorted_movies_vote_avg = sorted(sorted_movies_corr, key=lambda movie_sim:df['vote_average'][movie_sim[0]], reverse=True)\n",
    "    \n",
    "    # List of the recommended movies\n",
    "    recom_movies = [get_movie_title(idx) for c, (idx, corr) in enumerate(sorted_movies_vote_avg)]\n",
    "    \n",
    "    if user_movie_title in recom_movies:\n",
    "        recom_movies.remove(user_movie_title)\n",
    "    \n",
    "    print(f\"The {num} movies similar to '{user_movie_title}' are:\")\n",
    "    \n",
    "    return recom_movies"
   ]
  },
  {
   "cell_type": "code",
   "execution_count": 13,
   "metadata": {},
   "outputs": [
    {
     "data": {
      "text/html": [
       "<div>\n",
       "<style scoped>\n",
       "    .dataframe tbody tr th:only-of-type {\n",
       "        vertical-align: middle;\n",
       "    }\n",
       "\n",
       "    .dataframe tbody tr th {\n",
       "        vertical-align: top;\n",
       "    }\n",
       "\n",
       "    .dataframe thead th {\n",
       "        text-align: right;\n",
       "    }\n",
       "</style>\n",
       "<table border=\"1\" class=\"dataframe\">\n",
       "  <thead>\n",
       "    <tr style=\"text-align: right;\">\n",
       "      <th></th>\n",
       "      <th>index</th>\n",
       "      <th>title</th>\n",
       "      <th>genres</th>\n",
       "      <th>keywords</th>\n",
       "      <th>cast</th>\n",
       "      <th>director</th>\n",
       "      <th>tagline</th>\n",
       "      <th>vote_average</th>\n",
       "      <th>vote_count</th>\n",
       "      <th>imp_features</th>\n",
       "    </tr>\n",
       "  </thead>\n",
       "  <tbody>\n",
       "    <tr>\n",
       "      <th>0</th>\n",
       "      <td>0</td>\n",
       "      <td>Avatar</td>\n",
       "      <td>Action Adventure Fantasy Science Fiction</td>\n",
       "      <td>culture clash future space war space colony society</td>\n",
       "      <td>Sam Worthington Zoe Saldana Sigourney Weaver Stephen Lang Michelle...</td>\n",
       "      <td>James Cameron</td>\n",
       "      <td>Enter the World of Pandora.</td>\n",
       "      <td>7.2</td>\n",
       "      <td>11800</td>\n",
       "      <td>Avatar Action Adventure Fantasy Science Fiction culture clash futu...</td>\n",
       "    </tr>\n",
       "    <tr>\n",
       "      <th>1</th>\n",
       "      <td>1</td>\n",
       "      <td>Pirates of the Caribbean: At World's End</td>\n",
       "      <td>Adventure Fantasy Action</td>\n",
       "      <td>ocean drug abuse exotic island east india trading company love of ...</td>\n",
       "      <td>Johnny Depp Orlando Bloom Keira Knightley Stellan Skarsg\\u00e5rd C...</td>\n",
       "      <td>Gore Verbinski</td>\n",
       "      <td>At the end of the world, the adventure begins.</td>\n",
       "      <td>6.9</td>\n",
       "      <td>4500</td>\n",
       "      <td>Pirates of the Caribbean: At World's End Adventure Fantasy Action ...</td>\n",
       "    </tr>\n",
       "  </tbody>\n",
       "</table>\n",
       "</div>"
      ],
      "text/plain": [
       "   index                                     title  \\\n",
       "0      0                                    Avatar   \n",
       "1      1  Pirates of the Caribbean: At World's End   \n",
       "\n",
       "                                     genres  \\\n",
       "0  Action Adventure Fantasy Science Fiction   \n",
       "1                  Adventure Fantasy Action   \n",
       "\n",
       "                                                                keywords  \\\n",
       "0                    culture clash future space war space colony society   \n",
       "1  ocean drug abuse exotic island east india trading company love of ...   \n",
       "\n",
       "                                                                    cast  \\\n",
       "0  Sam Worthington Zoe Saldana Sigourney Weaver Stephen Lang Michelle...   \n",
       "1  Johnny Depp Orlando Bloom Keira Knightley Stellan Skarsg\\u00e5rd C...   \n",
       "\n",
       "         director                                         tagline  \\\n",
       "0   James Cameron                     Enter the World of Pandora.   \n",
       "1  Gore Verbinski  At the end of the world, the adventure begins.   \n",
       "\n",
       "   vote_average  vote_count  \\\n",
       "0           7.2       11800   \n",
       "1           6.9        4500   \n",
       "\n",
       "                                                            imp_features  \n",
       "0  Avatar Action Adventure Fantasy Science Fiction culture clash futu...  \n",
       "1  Pirates of the Caribbean: At World's End Adventure Fantasy Action ...  "
      ]
     },
     "execution_count": 13,
     "metadata": {},
     "output_type": "execute_result"
    }
   ],
   "source": [
    "# important columns to use for text preprocessing\n",
    "imp_cols = ['title', 'genres', 'keywords', 'cast', 'director', 'tagline']\n",
    "\n",
    "# add a new feature\n",
    "df['imp_features'] = df.apply(important_features, axis='columns')\n",
    "\n",
    "df.head(2)"
   ]
  },
  {
   "cell_type": "markdown",
   "metadata": {},
   "source": [
    "### Preprocess the text features"
   ]
  },
  {
   "cell_type": "code",
   "execution_count": 14,
   "metadata": {},
   "outputs": [],
   "source": [
    "# cal the 'bag of words' and 'TFIDF' of the 'imp_features'\n",
    "from sklearn.feature_extraction.text import TfidfVectorizer"
   ]
  },
  {
   "cell_type": "code",
   "execution_count": 15,
   "metadata": {},
   "outputs": [],
   "source": [
    "tfidf_vec = TfidfVectorizer(analyzer=clean_doc)\n",
    "imp_feats_vec = tfidf_vec.fit_transform(df['imp_features'])"
   ]
  },
  {
   "cell_type": "code",
   "execution_count": 16,
   "metadata": {},
   "outputs": [],
   "source": [
    "# calculate the cosine similarity\n",
    "from sklearn.metrics.pairwise import cosine_similarity"
   ]
  },
  {
   "cell_type": "code",
   "execution_count": 17,
   "metadata": {},
   "outputs": [],
   "source": [
    "# Cal the cosine similarity of the 'important_features'\n",
    "cosine_sim = cosine_similarity(imp_feats_vec)\n",
    "\n",
    "# Recommend a movie for a user who likes...\n",
    "user_movie_title = 'The Dark Knight Rises'\n",
    "\n",
    "# get the cosine similarity of the movie using the movie index\n",
    "cosine_sim_of_movie = cosine_sim[get_index(user_movie_title)]\n",
    "\n",
    "cosine_sim_of_movie = [*enumerate(cosine_sim_of_movie)]   # list containing (idx, corr)\n",
    "\n",
    "# sort the cosine similarity of the movie by the correlation in descending order\n",
    "sorted_movies_corr = sorted(cosine_sim_of_movie, key=lambda movie_sim:movie_sim[1], reverse=True)[:10]\n",
    "\n",
    "# sort the cosine similarity of the movie by the vote_average in descending order\n",
    "sorted_movies_vote_avg = sorted(sorted_movies_corr, key=lambda movie_sim:df['vote_average'][movie_sim[0]], reverse=True)"
   ]
  },
  {
   "cell_type": "code",
   "execution_count": 18,
   "metadata": {},
   "outputs": [
    {
     "name": "stdout",
     "output_type": "stream",
     "text": [
      "The Dark Knight\n",
      "Interstellar\n",
      "The Prestige\n",
      "Batman: The Dark Knight Returns, Part 2\n",
      "The Dark Knight Rises\n",
      "Batman Begins\n",
      "Batman\n",
      "Superman\n",
      "Batman Returns\n",
      "Batman & Robin\n"
     ]
    }
   ],
   "source": [
    "for c, (idx, corr) in enumerate(sorted_movies_vote_avg):  # c is the counter\n",
    "    if c < 10:   \n",
    "        # Get the movie title\n",
    "        print(get_movie_title(idx))"
   ]
  },
  {
   "cell_type": "code",
   "execution_count": 19,
   "metadata": {},
   "outputs": [
    {
     "name": "stdout",
     "output_type": "stream",
     "text": [
      "The 10 movies similar to 'The Book of Eli' are:\n"
     ]
    },
    {
     "data": {
      "text/plain": [
       "['Terminator 2: Judgment Day',\n",
       " 'Dawn of the Planet of the Apes',\n",
       " 'Mad Max: Fury Road',\n",
       " 'The Great Debaters',\n",
       " 'Antwone Fisher',\n",
       " '9',\n",
       " 'The Hunger Games: Mockingjay - Part 1',\n",
       " 'Mad Max',\n",
       " 'Priest',\n",
       " 'Max Payne']"
      ]
     },
     "execution_count": 19,
     "metadata": {},
     "output_type": "execute_result"
    }
   ],
   "source": [
    "recommend_movies('The Book of Eli')"
   ]
  },
  {
   "cell_type": "code",
   "execution_count": null,
   "metadata": {},
   "outputs": [],
   "source": []
  },
  {
   "cell_type": "code",
   "execution_count": null,
   "metadata": {},
   "outputs": [],
   "source": []
  }
 ],
 "metadata": {
  "kernelspec": {
   "display_name": "Python 3",
   "language": "python",
   "name": "python3"
  },
  "language_info": {
   "codemirror_mode": {
    "name": "ipython",
    "version": 3
   },
   "file_extension": ".py",
   "mimetype": "text/x-python",
   "name": "python",
   "nbconvert_exporter": "python",
   "pygments_lexer": "ipython3",
   "version": "3.8.5"
  }
 },
 "nbformat": 4,
 "nbformat_minor": 4
}
